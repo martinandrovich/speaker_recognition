{
 "cells": [
  {
   "cell_type": "code",
   "execution_count": 1,
   "metadata": {},
   "outputs": [],
   "source": [
    "# imports\n",
    "\n",
    "import os\n",
    "import torch\n",
    "import torch.nn as nn\n",
    "from torch.utils.data import DataLoader\n",
    "from dill.source import getname\n",
    "from torchinfo import summary\n",
    "from datetime import datetime\n",
    "from pprint import pprint\n",
    "\n",
    "from speaker_recognition.datasets import PodcastAudioDataset\n",
    "from speaker_recognition.models import SpeechRecognitionNet\n",
    "from speaker_recognition.utils import train_model, plot_train_history, log_results"
   ]
  },
  {
   "cell_type": "code",
   "execution_count": 2,
   "metadata": {},
   "outputs": [],
   "source": [
    "# parameters\n",
    "\n",
    "num_divs     = 1 # number of sub-samples per 5s sample\n",
    "mel_spec     = True # convert waveform to MelSpectrogram\n",
    "# augments     = [\"time_shift\", \"spec_augment\"]\n",
    "augments     = []\n",
    "batch_size   = 8 * num_divs\n",
    "lr           = 0.001\n",
    "weight_decay = 1e-6\n",
    "momentum     = 0.95\n",
    "num_epochs   = 20"
   ]
  },
  {
   "cell_type": "code",
   "execution_count": 3,
   "metadata": {},
   "outputs": [
    {
     "name": "stdout",
     "output_type": "stream",
     "text": [
      "splits: {'train': (0.0, 0.6), 'validation': (0.6, 0.8), 'test': (0.8, 1.0)}\n",
      "batch shape: [8, 1, 64, 157]\n"
     ]
    }
   ],
   "source": [
    "# datasets and dataloaders\n",
    "\n",
    "train_set = PodcastAudioDataset(split=\"train\", num_divs=num_divs, mel_spec=mel_spec, augments=augments)\n",
    "val_set   = PodcastAudioDataset(split=\"validation\", num_divs=num_divs, mel_spec=mel_spec)\n",
    "test_set  = PodcastAudioDataset(split=\"test\", num_divs=num_divs, mel_spec=mel_spec)\n",
    "\n",
    "train_loader = DataLoader(train_set, batch_size=batch_size, shuffle=True)\n",
    "val_loader = DataLoader(val_set, batch_size=16, shuffle=False)\n",
    "\n",
    "batch_shape = next(iter(train_loader))[0].size() # batch shape, not size\n",
    "print(f\"splits: {PodcastAudioDataset.SPLITS}\")\n",
    "print(f\"batch shape: {list(batch_shape)}\")"
   ]
  },
  {
   "cell_type": "code",
   "execution_count": 4,
   "metadata": {},
   "outputs": [
    {
     "name": "stdout",
     "output_type": "stream",
     "text": [
      "==========================================================================================\n",
      "Layer (type:depth-idx)                   Output Shape              Param #\n",
      "==========================================================================================\n",
      "SpeechRecognitionNet                     --                        --\n",
      "├─Sequential: 1-1                        [8, 2, 32, 78]            --\n",
      "│    └─Conv2d: 2-1                       [8, 2, 64, 157]           52\n",
      "│    └─MaxPool2d: 2-2                    [8, 2, 32, 78]            --\n",
      "│    └─ReLU: 2-3                         [8, 2, 32, 78]            --\n",
      "│    └─BatchNorm2d: 2-4                  [8, 2, 32, 78]            4\n",
      "├─Sequential: 1-2                        [8, 4, 16, 39]            --\n",
      "│    └─Conv2d: 2-5                       [8, 4, 32, 78]            76\n",
      "│    └─MaxPool2d: 2-6                    [8, 4, 16, 39]            --\n",
      "│    └─ReLU: 2-7                         [8, 4, 16, 39]            --\n",
      "│    └─BatchNorm2d: 2-8                  [8, 4, 16, 39]            8\n",
      "├─Flatten: 1-3                           [8, 2496]                 --\n",
      "├─Sequential: 1-4                        [8, 1248]                 --\n",
      "│    └─Linear: 2-9                       [8, 1248]                 3,116,256\n",
      "│    └─ReLU: 2-10                        [8, 1248]                 --\n",
      "│    └─BatchNorm1d: 2-11                 [8, 1248]                 2,496\n",
      "├─Sequential: 1-5                        [8, 624]                  --\n",
      "│    └─Linear: 2-12                      [8, 624]                  779,376\n",
      "│    └─ReLU: 2-13                        [8, 624]                  --\n",
      "│    └─BatchNorm1d: 2-14                 [8, 624]                  1,248\n",
      "├─Sequential: 1-6                        [8, 2]                    --\n",
      "│    └─Linear: 2-15                      [8, 2]                    1,250\n",
      "==========================================================================================\n",
      "Total params: 3,900,766\n",
      "Trainable params: 3,900,766\n",
      "Non-trainable params: 0\n",
      "Total mult-adds (M): 36.90\n",
      "==========================================================================================\n",
      "Input size (MB): 0.32\n",
      "Forward/backward pass size (MB): 2.64\n",
      "Params size (MB): 15.60\n",
      "Estimated Total Size (MB): 18.57\n",
      "==========================================================================================\n"
     ]
    }
   ],
   "source": [
    "# model (network)\n",
    "\n",
    "model = SpeechRecognitionNet(batch_shape=batch_shape)\n",
    "model_summary = summary(model, input_size=batch_shape) # print model info\n",
    "print(model_summary)\n",
    "\n",
    "device = torch.device(\"cuda:0\" if torch.cuda.is_available() else \"cpu\")\n",
    "criterion = nn.CrossEntropyLoss()\n",
    "optimizer = torch.optim.Adam(model.parameters(), lr=lr, weight_decay=weight_decay)"
   ]
  },
  {
   "cell_type": "code",
   "execution_count": 5,
   "metadata": {},
   "outputs": [],
   "source": [
    "# train\n",
    "\n",
    "stats = train_model(\n",
    "\tmodel=model,\n",
    "\tdataloaders=[train_loader, val_loader],\n",
    "\tnum_epochs=num_epochs,\n",
    "\tcriterion=criterion,\n",
    "\toptimizer=optimizer,\n",
    "\tprint_progress=False\n",
    ")"
   ]
  },
  {
   "cell_type": "code",
   "execution_count": 6,
   "metadata": {},
   "outputs": [
    {
     "data": {
      "image/png": "[encoded data removed]",
      "text/plain": [
       "<Figure size 432x288 with 1 Axes>"
      ]
     },
     "metadata": {
      "needs_background": "light"
     },
     "output_type": "display_data"
    },
    {
     "name": "stdout",
     "output_type": "stream",
     "text": [
      "saved model data to ./logs/20220218_210255\n"
     ]
    }
   ],
   "source": [
    "# plot + log results to file\n",
    "\n",
    "fig = plot_train_history(stats)\n",
    "log_results(model, stats, fig)"
   ]
  }
 ],
 "metadata": {
  "interpreter": {
   "hash": "434b6027482ce11b11ee4b4c9fcebdbdce384fa4b08e0eb647b0c7e8c80d9920"
  },
  "kernelspec": {
   "display_name": "Python 3.9.7 64-bit",
   "language": "python",
   "name": "python3"
  },
  "language_info": {
   "codemirror_mode": {
    "name": "ipython",
    "version": 3
   },
   "file_extension": ".py",
   "mimetype": "text/x-python",
   "name": "python",
   "nbconvert_exporter": "python",
   "pygments_lexer": "ipython3",
   "version": "3.9.10"
  },
  "orig_nbformat": 4
 },
 "nbformat": 4,
 "nbformat_minor": 2
}
